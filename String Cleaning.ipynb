{
  "nbformat": 4,
  "nbformat_minor": 0,
  "metadata": {
    "colab": {
      "name": "lamda.ipynb",
      "provenance": [],
      "include_colab_link": true
    },
    "kernelspec": {
      "name": "python3",
      "display_name": "Python 3"
    },
    "language_info": {
      "name": "python"
    }
  },
  "cells": [
    {
      "cell_type": "markdown",
      "metadata": {
        "id": "view-in-github",
        "colab_type": "text"
      },
      "source": [
        "<a href=\"https://colab.research.google.com/github/bidhan7/Machine-learning/blob/main/String%20Cleaning.ipynb\" target=\"_parent\"><img src=\"https://colab.research.google.com/assets/colab-badge.svg\" alt=\"Open In Colab\"/></a>"
      ]
    },
    {
      "cell_type": "markdown",
      "source": [
        "First, I will import the libraries that will be necessary to run code further.\n",
        "I will use request.get to read the data from the url. Using soup to find the table of world's highest peaks and arranged using droplevel."
      ],
      "metadata": {
        "id": "Pdpks1B0UnXT"
      }
    },
    {
      "cell_type": "code",
      "source": [
        "import requests\n",
        "import pandas as pa\n",
        "from bs4 import BeautifulSoup\n",
        "\n",
        "\n",
        "r = requests.get('https://en.wikipedia.org/wiki/List_of_highest_mountains_on_Earth') \n",
        "html_contents = r.text\n",
        "html_soup = BeautifulSoup(html_contents,\"lxml\")\n",
        "tables = html_soup.find_all('table',class_=\"wikitable\")\n",
        "\n",
        "df1 = pa.read_html(str(tables))[0]\n",
        "df1.columns = df1.columns.droplevel(0).droplevel(0)\n",
        "df1.head()"
      ],
      "metadata": {
        "colab": {
          "base_uri": "https://localhost:8080/",
          "height": 354
        },
        "id": "5lY05_tR2sji",
        "outputId": "40fe59e3-e803-4457-c131-733cc56a9a99"
      },
      "execution_count": null,
      "outputs": [
        {
          "output_type": "execute_result",
          "data": {
            "text/html": [
              "\n",
              "  <div id=\"df-8bde8dea-1f99-4ab7-ad45-08ec227e4533\">\n",
              "    <div class=\"colab-df-container\">\n",
              "      <div>\n",
              "<style scoped>\n",
              "    .dataframe tbody tr th:only-of-type {\n",
              "        vertical-align: middle;\n",
              "    }\n",
              "\n",
              "    .dataframe tbody tr th {\n",
              "        vertical-align: top;\n",
              "    }\n",
              "\n",
              "    .dataframe thead th {\n",
              "        text-align: right;\n",
              "    }\n",
              "</style>\n",
              "<table border=\"1\" class=\"dataframe\">\n",
              "  <thead>\n",
              "    <tr style=\"text-align: right;\">\n",
              "      <th></th>\n",
              "      <th>Rank[dp 1]</th>\n",
              "      <th>Mountain name(s)</th>\n",
              "      <th>m</th>\n",
              "      <th>ft</th>\n",
              "      <th>m</th>\n",
              "      <th>ft</th>\n",
              "      <th>Range</th>\n",
              "      <th>Coordinates[dp 4]</th>\n",
              "      <th>Parent mountain[dp 5]</th>\n",
              "      <th>1st</th>\n",
              "      <th>y</th>\n",
              "      <th>n</th>\n",
              "      <th>Country (disputed claims in italics)</th>\n",
              "    </tr>\n",
              "  </thead>\n",
              "  <tbody>\n",
              "    <tr>\n",
              "      <th>0</th>\n",
              "      <td>1</td>\n",
              "      <td>.mw-parser-output ul.cslist,.mw-parser-output ...</td>\n",
              "      <td>8848</td>\n",
              "      <td>29,029[dp 7]</td>\n",
              "      <td>8848</td>\n",
              "      <td>29029</td>\n",
              "      <td>Mahalangur Himalaya</td>\n",
              "      <td>.mw-parser-output .geo-default,.mw-parser-outp...</td>\n",
              "      <td>—</td>\n",
              "      <td>1953</td>\n",
              "      <td>145</td>\n",
              "      <td>121</td>\n",
              "      <td>NepalChina</td>\n",
              "    </tr>\n",
              "    <tr>\n",
              "      <th>1</th>\n",
              "      <td>2</td>\n",
              "      <td>K2</td>\n",
              "      <td>8611</td>\n",
              "      <td>28251</td>\n",
              "      <td>4020</td>\n",
              "      <td>13190</td>\n",
              "      <td>Baltoro Karakoram</td>\n",
              "      <td>35°52′53″N 76°30′48″E﻿ / ﻿35.88139°N 76.51333°E</td>\n",
              "      <td>Mount Everest</td>\n",
              "      <td>1954</td>\n",
              "      <td>45</td>\n",
              "      <td>44</td>\n",
              "      <td>Pakistan[dp 8]China[12]</td>\n",
              "    </tr>\n",
              "    <tr>\n",
              "      <th>2</th>\n",
              "      <td>3</td>\n",
              "      <td>Kangchenjunga</td>\n",
              "      <td>8586</td>\n",
              "      <td>28169</td>\n",
              "      <td>3922</td>\n",
              "      <td>12867</td>\n",
              "      <td>Kangchenjunga Himalaya</td>\n",
              "      <td>27°42′12″N 88°08′51″E﻿ / ﻿27.70333°N 88.14750°E *</td>\n",
              "      <td>Mount Everest</td>\n",
              "      <td>1955</td>\n",
              "      <td>38</td>\n",
              "      <td>24</td>\n",
              "      <td>NepalIndia</td>\n",
              "    </tr>\n",
              "    <tr>\n",
              "      <th>3</th>\n",
              "      <td>4</td>\n",
              "      <td>Lhotse</td>\n",
              "      <td>8516</td>\n",
              "      <td>27940</td>\n",
              "      <td>610</td>\n",
              "      <td>2000</td>\n",
              "      <td>Mahalangur Himalaya</td>\n",
              "      <td>27°57′42″N 86°55′59″E﻿ / ﻿27.96167°N 86.93306°E</td>\n",
              "      <td>Mount Everest</td>\n",
              "      <td>1956</td>\n",
              "      <td>26</td>\n",
              "      <td>26</td>\n",
              "      <td>NepalChina</td>\n",
              "    </tr>\n",
              "    <tr>\n",
              "      <th>4</th>\n",
              "      <td>5</td>\n",
              "      <td>Makalu</td>\n",
              "      <td>8485</td>\n",
              "      <td>27838</td>\n",
              "      <td>2378</td>\n",
              "      <td>7802</td>\n",
              "      <td>Mahalangur Himalaya</td>\n",
              "      <td>27°53′23″N 87°05′20″E﻿ / ﻿27.88972°N 87.08889°E</td>\n",
              "      <td>Mount Everest</td>\n",
              "      <td>1955</td>\n",
              "      <td>45</td>\n",
              "      <td>—</td>\n",
              "      <td>NepalChina</td>\n",
              "    </tr>\n",
              "  </tbody>\n",
              "</table>\n",
              "</div>\n",
              "      <button class=\"colab-df-convert\" onclick=\"convertToInteractive('df-8bde8dea-1f99-4ab7-ad45-08ec227e4533')\"\n",
              "              title=\"Convert this dataframe to an interactive table.\"\n",
              "              style=\"display:none;\">\n",
              "        \n",
              "  <svg xmlns=\"http://www.w3.org/2000/svg\" height=\"24px\"viewBox=\"0 0 24 24\"\n",
              "       width=\"24px\">\n",
              "    <path d=\"M0 0h24v24H0V0z\" fill=\"none\"/>\n",
              "    <path d=\"M18.56 5.44l.94 2.06.94-2.06 2.06-.94-2.06-.94-.94-2.06-.94 2.06-2.06.94zm-11 1L8.5 8.5l.94-2.06 2.06-.94-2.06-.94L8.5 2.5l-.94 2.06-2.06.94zm10 10l.94 2.06.94-2.06 2.06-.94-2.06-.94-.94-2.06-.94 2.06-2.06.94z\"/><path d=\"M17.41 7.96l-1.37-1.37c-.4-.4-.92-.59-1.43-.59-.52 0-1.04.2-1.43.59L10.3 9.45l-7.72 7.72c-.78.78-.78 2.05 0 2.83L4 21.41c.39.39.9.59 1.41.59.51 0 1.02-.2 1.41-.59l7.78-7.78 2.81-2.81c.8-.78.8-2.07 0-2.86zM5.41 20L4 18.59l7.72-7.72 1.47 1.35L5.41 20z\"/>\n",
              "  </svg>\n",
              "      </button>\n",
              "      \n",
              "  <style>\n",
              "    .colab-df-container {\n",
              "      display:flex;\n",
              "      flex-wrap:wrap;\n",
              "      gap: 12px;\n",
              "    }\n",
              "\n",
              "    .colab-df-convert {\n",
              "      background-color: #E8F0FE;\n",
              "      border: none;\n",
              "      border-radius: 50%;\n",
              "      cursor: pointer;\n",
              "      display: none;\n",
              "      fill: #1967D2;\n",
              "      height: 32px;\n",
              "      padding: 0 0 0 0;\n",
              "      width: 32px;\n",
              "    }\n",
              "\n",
              "    .colab-df-convert:hover {\n",
              "      background-color: #E2EBFA;\n",
              "      box-shadow: 0px 1px 2px rgba(60, 64, 67, 0.3), 0px 1px 3px 1px rgba(60, 64, 67, 0.15);\n",
              "      fill: #174EA6;\n",
              "    }\n",
              "\n",
              "    [theme=dark] .colab-df-convert {\n",
              "      background-color: #3B4455;\n",
              "      fill: #D2E3FC;\n",
              "    }\n",
              "\n",
              "    [theme=dark] .colab-df-convert:hover {\n",
              "      background-color: #434B5C;\n",
              "      box-shadow: 0px 1px 3px 1px rgba(0, 0, 0, 0.15);\n",
              "      filter: drop-shadow(0px 1px 2px rgba(0, 0, 0, 0.3));\n",
              "      fill: #FFFFFF;\n",
              "    }\n",
              "  </style>\n",
              "\n",
              "      <script>\n",
              "        const buttonEl =\n",
              "          document.querySelector('#df-8bde8dea-1f99-4ab7-ad45-08ec227e4533 button.colab-df-convert');\n",
              "        buttonEl.style.display =\n",
              "          google.colab.kernel.accessAllowed ? 'block' : 'none';\n",
              "\n",
              "        async function convertToInteractive(key) {\n",
              "          const element = document.querySelector('#df-8bde8dea-1f99-4ab7-ad45-08ec227e4533');\n",
              "          const dataTable =\n",
              "            await google.colab.kernel.invokeFunction('convertToInteractive',\n",
              "                                                     [key], {});\n",
              "          if (!dataTable) return;\n",
              "\n",
              "          const docLinkHtml = 'Like what you see? Visit the ' +\n",
              "            '<a target=\"_blank\" href=https://colab.research.google.com/notebooks/data_table.ipynb>data table notebook</a>'\n",
              "            + ' to learn more about interactive tables.';\n",
              "          element.innerHTML = '';\n",
              "          dataTable['output_type'] = 'display_data';\n",
              "          await google.colab.output.renderOutput(dataTable, element);\n",
              "          const docLink = document.createElement('div');\n",
              "          docLink.innerHTML = docLinkHtml;\n",
              "          element.appendChild(docLink);\n",
              "        }\n",
              "      </script>\n",
              "    </div>\n",
              "  </div>\n",
              "  "
            ],
            "text/plain": [
              "  Rank[dp 1]  ... Country (disputed claims in italics)\n",
              "0          1  ...                           NepalChina\n",
              "1          2  ...              Pakistan[dp 8]China[12]\n",
              "2          3  ...                           NepalIndia\n",
              "3          4  ...                           NepalChina\n",
              "4          5  ...                           NepalChina\n",
              "\n",
              "[5 rows x 13 columns]"
            ]
          },
          "metadata": {},
          "execution_count": 2
        }
      ]
    },
    {
      "cell_type": "code",
      "source": [
        "df1.columns #listing all the columns"
      ],
      "metadata": {
        "id": "lwvhCdhYPKol",
        "outputId": "72acdf85-3e17-48c8-e429-40e0ccc41ea8",
        "colab": {
          "base_uri": "https://localhost:8080/"
        }
      },
      "execution_count": null,
      "outputs": [
        {
          "output_type": "execute_result",
          "data": {
            "text/plain": [
              "Index(['Rank[dp 1]', 'Mountain name(s)', 'm', 'ft', 'm', 'ft', 'Range',\n",
              "       'Coordinates[dp 4]', 'Parent mountain[dp 5]', '1st', 'y', 'n',\n",
              "       'Country (disputed claims in italics)'],\n",
              "      dtype='object')"
            ]
          },
          "metadata": {},
          "execution_count": 3
        }
      ]
    },
    {
      "cell_type": "markdown",
      "source": [
        "Regular Expression package is a order of characters that forms a search pattern. I will import RegEx."
      ],
      "metadata": {
        "id": "FxkUd9fWXShc"
      }
    },
    {
      "cell_type": "code",
      "source": [
        "import re"
      ],
      "metadata": {
        "id": "7m161cItURHE"
      },
      "execution_count": null,
      "outputs": []
    },
    {
      "cell_type": "code",
      "source": [
        "col = df1.columns.map(lambda s: re.sub(r\"\\[(.+)\\]\",\"\",s))\n",
        "col"
      ],
      "metadata": {
        "id": "vslNZNyvVX98",
        "outputId": "b1566db5-5b2f-41e8-9b4d-3cfb052d4739",
        "colab": {
          "base_uri": "https://localhost:8080/"
        }
      },
      "execution_count": null,
      "outputs": [
        {
          "output_type": "execute_result",
          "data": {
            "text/plain": [
              "Index(['Rank', 'Mountain name(s)', 'm', 'ft', 'm', 'ft', 'Range',\n",
              "       'Coordinates', 'Parent mountain', '1st', 'y', 'n',\n",
              "       'Country (disputed claims in italics)'],\n",
              "      dtype='object')"
            ]
          },
          "metadata": {},
          "execution_count": 6
        }
      ]
    },
    {
      "cell_type": "markdown",
      "source": [
        "Removing characters including spaces and allowing repititions of the pattern."
      ],
      "metadata": {
        "id": "xN638I36ZOZh"
      }
    },
    {
      "cell_type": "code",
      "source": [
        "new= col.map(lambda s : re.sub(r\"\\((.+)\\)\",\"\",s))\n",
        "new\n"
      ],
      "metadata": {
        "id": "dULeuTsSa9An",
        "outputId": "e6c26517-8c22-4bda-de8d-d4f5e13ae401",
        "colab": {
          "base_uri": "https://localhost:8080/"
        }
      },
      "execution_count": null,
      "outputs": [
        {
          "output_type": "execute_result",
          "data": {
            "text/plain": [
              "Index(['Rank', 'Mountain name', 'm', 'ft', 'm', 'ft', 'Range', 'Coordinates',\n",
              "       'Parent mountain', '1st', 'y', 'n', 'Country '],\n",
              "      dtype='object')"
            ]
          },
          "metadata": {},
          "execution_count": 7
        }
      ]
    },
    {
      "cell_type": "markdown",
      "source": [
        "Removing space from the columns name."
      ],
      "metadata": {
        "id": "avrp6Qyva5Wr"
      }
    },
    {
      "cell_type": "code",
      "source": [
        "new1=new.map(lambda s : re.sub(r\" \",\"\",s))\n",
        "new1"
      ],
      "metadata": {
        "id": "HMzcjHIHcwa6",
        "outputId": "a3cd2e22-44cf-43f7-c34c-bfca8380e105",
        "colab": {
          "base_uri": "https://localhost:8080/"
        }
      },
      "execution_count": null,
      "outputs": [
        {
          "output_type": "execute_result",
          "data": {
            "text/plain": [
              "Index(['Rank', 'Mountainname', 'm', 'ft', 'm', 'ft', 'Range', 'Coordinates',\n",
              "       'Parentmountain', '1st', 'y', 'n', 'Country'],\n",
              "      dtype='object')"
            ]
          },
          "metadata": {},
          "execution_count": 8
        }
      ]
    },
    {
      "cell_type": "markdown",
      "source": [
        "Capitalizing initial letter of columns name."
      ],
      "metadata": {
        "id": "4H5UtNfWbE89"
      }
    },
    {
      "cell_type": "code",
      "source": [
        "new1.map(lambda s : s.capitalize())"
      ],
      "metadata": {
        "id": "_467CsIrdJMa",
        "outputId": "b0b93ceb-37fb-4948-ae5b-033d17d0d652",
        "colab": {
          "base_uri": "https://localhost:8080/"
        }
      },
      "execution_count": null,
      "outputs": [
        {
          "output_type": "execute_result",
          "data": {
            "text/plain": [
              "Index(['Rank', 'Mountainname', 'M', 'Ft', 'M', 'Ft', 'Range', 'Coordinates',\n",
              "       'Parentmountain', '1st', 'Y', 'N', 'Country'],\n",
              "      dtype='object')"
            ]
          },
          "metadata": {},
          "execution_count": 107
        }
      ]
    },
    {
      "cell_type": "markdown",
      "source": [
        "Examine the last column.  Describe a way in which you might be able to clean it up to make sense of it and allow for later analysis."
      ],
      "metadata": {
        "id": "DLTtoQ3LQ2Lm"
      }
    },
    {
      "cell_type": "code",
      "source": [
        "df1.iloc[:,-1]"
      ],
      "metadata": {
        "id": "o0EhHeh7Xs80",
        "outputId": "efd306dd-a61d-47e4-ddbf-ef48f854812c",
        "colab": {
          "base_uri": "https://localhost:8080/"
        }
      },
      "execution_count": null,
      "outputs": [
        {
          "output_type": "execute_result",
          "data": {
            "text/plain": [
              "0                            NepalChina\n",
              "1               Pakistan[dp 8]China[12]\n",
              "2                            NepalIndia\n",
              "3                            NepalChina\n",
              "4                            NepalChina\n",
              "                     ...               \n",
              "115                               China\n",
              "116                          NepalChina\n",
              "117                  BhutanChina[dp 18]\n",
              "118    IndiaChina[dp 10][dp 11]'[dp 12]\n",
              "119                      Pakistan[dp 8]\n",
              "Name: Country (disputed claims in italics), Length: 120, dtype: object"
            ]
          },
          "metadata": {},
          "execution_count": 57
        }
      ]
    },
    {
      "cell_type": "markdown",
      "source": [
        "I think using RegEx we can remove weird characters, spaces and numbers. And using array counting and keeping slash in between the countries will pretty much clean data. It really sounds complicated."
      ],
      "metadata": {
        "id": "FFXSK0WLbo36"
      }
    }
  ]
}